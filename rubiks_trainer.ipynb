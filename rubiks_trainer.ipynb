{
  "nbformat": 4,
  "nbformat_minor": 0,
  "metadata": {
    "colab": {
      "provenance": [],
      "authorship_tag": "ABX9TyMPX+iiY8nxoGS7OOLmULyp",
      "include_colab_link": true
    },
    "kernelspec": {
      "name": "python3",
      "display_name": "Python 3"
    },
    "language_info": {
      "name": "python"
    }
  },
  "cells": [
    {
      "cell_type": "markdown",
      "metadata": {
        "id": "view-in-github",
        "colab_type": "text"
      },
      "source": [
        "<a href=\"https://colab.research.google.com/github/wiam-blf/rubiks-cube-trainer/blob/main/rubiks_trainer.ipynb\" target=\"_parent\"><img src=\"https://colab.research.google.com/assets/colab-badge.svg\" alt=\"Open In Colab\"/></a>"
      ]
    },
    {
      "cell_type": "code",
      "execution_count": null,
      "metadata": {
        "id": "h02pLOpAJ6H9"
      },
      "outputs": [],
      "source": [
        "import random\n",
        "\n",
        "# possible Rubik's Cube moves\n",
        "moves = [\"R\", \"R'\", \"L\", \"L'\", \"U\", \"U'\", \"D\", \"D'\", \"F\", \"F'\", \"B\", \"B'\"]\n",
        "\n",
        "def generate_sequence(length=4):\n",
        "    \"\"\"Generate a random move sequence\"\"\"\n",
        "    return [random.choice(moves) for _ in range(length)]\n",
        "\n",
        "def play_round(round_number):\n",
        "    print(f\"\\n🔁 Round {round_number}\")\n",
        "    sequence = generate_sequence()\n",
        "    print(\"Memorize this sequence:\")\n",
        "    print(\"🧠\", ' '.join(sequence))\n",
        "\n",
        "    input(\"Press Enter when ready to type the sequence...\")\n",
        "\n",
        "    user_input = input(\"✍️ Type the sequence (e.g., R U R' U'):\\n> \").strip().split()\n",
        "\n",
        "    if user_input == sequence:\n",
        "        print(\"✅ Correct!\")\n",
        "        return True\n",
        "    else:\n",
        "        print(\"❌ Incorrect.\")\n",
        "        print(\"👉 Correct sequence was:\", ' '.join(sequence))\n",
        "        return False\n",
        "\n",
        "def main():\n",
        "    print(\"🧩 Rubik's Cube Move Trainer\")\n",
        "    print(\"----------------------------\")\n",
        "    score = 0\n",
        "    rounds = 3\n",
        "\n",
        "    for i in range(1, rounds + 1):\n",
        "        if play_round(i):\n",
        "            score += 1\n",
        "\n",
        "    print(\"\\n📊 Final Score:\", score, \"/\", rounds)\n",
        "    print(\"🎉 Thanks for playing!\")\n",
        "\n",
        "if __name__ == \"__main__\":\n",
        "    main()\n"
      ]
    }
  ]
}